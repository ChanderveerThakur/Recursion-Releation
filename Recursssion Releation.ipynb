{
 "cells": [
  {
   "cell_type": "markdown",
   "id": "338007ae",
   "metadata": {},
   "source": [
    "1. Find the value of T(2) for the recurrence relation T(n) = 3T(n-1) + 12n, given that T(0)=5.\n"
   ]
  },
  {
   "cell_type": "markdown",
   "id": "f1a878de",
   "metadata": {},
   "source": [
    "T(0) =5\n",
    "\n",
    "T(1) =3T(0)+12(1)=3×5+12×1=15+12=27\n",
    "\n",
    "T(2) =3T(1)+12(2)=3×27+12×2=81+24=105\n",
    "\n"
   ]
  },
  {
   "cell_type": "markdown",
   "id": "cf570ec1",
   "metadata": {},
   "source": [
    "2. Given a recurrence relation, solve it using the substit%uion method:\n",
    "\n",
    "a. T(n) = T(n-1) + c\n",
    "\n",
    "b. T(n) = 2T(n/2) + n\n",
    "\n",
    "c. T(n) = 2T(n/2) + c\n",
    "\n",
    "d. T(n) = T(n/2) + c"
   ]
  },
  {
   "cell_type": "raw",
   "id": "2b53b48b",
   "metadata": {},
   "source": [
    "a: T(n)  = an + b - a + c\n",
    "b: T(n) = an + b\n",
    "c: T(n) = an + c\n",
    "d: T(n) - 2c/n + b"
   ]
  },
  {
   "cell_type": "markdown",
   "id": "58d515b4",
   "metadata": {},
   "source": [
    "3. Given a rec%rrence relation, solve it %sing the rec%rsive tree approach:\n",
    "\n",
    "a. T(n) = 2T(n-1) +1\n",
    "\n",
    "b. T(n) = 2T(n/2) + n"
   ]
  },
  {
   "cell_type": "raw",
   "id": "97465a3d",
   "metadata": {},
   "source": [
    "a: T(n)=2**n\n",
    "b: T(n)=nlogn\n"
   ]
  },
  {
   "cell_type": "code",
   "execution_count": null,
   "id": "19f7df69",
   "metadata": {},
   "outputs": [],
   "source": []
  }
 ],
 "metadata": {
  "kernelspec": {
   "display_name": "Python 3 (ipykernel)",
   "language": "python",
   "name": "python3"
  },
  "language_info": {
   "codemirror_mode": {
    "name": "ipython",
    "version": 3
   },
   "file_extension": ".py",
   "mimetype": "text/x-python",
   "name": "python",
   "nbconvert_exporter": "python",
   "pygments_lexer": "ipython3",
   "version": "3.10.9"
  }
 },
 "nbformat": 4,
 "nbformat_minor": 5
}
